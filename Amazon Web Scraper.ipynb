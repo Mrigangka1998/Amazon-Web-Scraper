{
 "cells": [
  {
   "cell_type": "markdown",
   "id": "92ac2c62-84ea-4446-aa18-aa4624ba207d",
   "metadata": {},
   "source": [
    "## Amazon Web Scraper"
   ]
  },
  {
   "cell_type": "markdown",
   "id": "c8db9ca2-1e6e-4bd1-bf2c-09028070ac26",
   "metadata": {},
   "source": [
    "This notebook aims to scrape data, specifically the price of a product from a specific Amazon page: https://www.amazon.com/Tommy-Hilfiger-Performance-Stretch-Regular/dp/B07HL41FKF/ref=sr_1_2?crid=2RJSFRJZXALTR&dib=eyJ2IjoiMSJ9.OY5fqbXmaP_tkolXO48ZeJaW4bmx3S5Cg9rWuKHS6OCMsBlaB2NLePg9ZgKl7c3rcmcPwjD88biPxxEM98qFgPMY8sNXB6ZNfXQ-9mj8v9-a9Vx-y1u97j_AXcTVy8wtllYTnACHx_XANTgoCCEOKMKNPm2ICtUV-4j1CvAzksyFbAYLm1YN9P2qohu5u-JEIpoJ1TirTb04vGG0BHxbYGctzyfcCO_XlImDbjYFhy5Cg_ILzA66M6w9-nAoq3hrTohl0I_UWwBa0Hgn9ruN2-sL_We10rY77lyoI1B8PKE.q2i2Tk1V0e4pb3_zSXHs063193EQKbdgGPn3nZMlMbc&dib_tag=se&keywords=suits+for+men&qid=1710830278&refinements=p_123%3A232763&rnid=85457740011&s=apparel&sprefix=suit%2Caps%2C274&sr=1-2\n",
    "\n",
    "This page refers to a men's suit from Tommy Hilfiger. The notebook automates the data collection process by collecting the price every 30 minutes and storing it to a csv file. It also sends out an automatic email alert if the price falls below \\\\$100."
   ]
  },
  {
   "cell_type": "code",
   "execution_count": 1,
   "id": "f236cbb9",
   "metadata": {
    "tags": []
   },
   "outputs": [],
   "source": [
    "# import libraries \n",
    "\n",
    "from bs4 import BeautifulSoup\n",
    "import requests\n",
    "import time\n",
    "import datetime\n",
    "import csv \n",
    "import pandas as pd\n",
    "\n",
    "import smtplib"
   ]
  },
  {
   "cell_type": "markdown",
   "id": "dbe6e60b-8a0e-4021-89a2-ccdb40248842",
   "metadata": {},
   "source": [
    "### Connect to Website and pull in data"
   ]
  },
  {
   "cell_type": "code",
   "execution_count": 2,
   "id": "9b531b61",
   "metadata": {
    "tags": []
   },
   "outputs": [],
   "source": [
    "# URL of the webpage\n",
    "\n",
    "URL = 'https://www.amazon.com/Tommy-Hilfiger-Performance-Stretch-Regular/dp/B07HL41FKF/ref=sr_1_2?crid=2RJSFRJZXALTR&dib=eyJ2IjoiMSJ9.OY5fqbXmaP_tkolXO48ZeJaW4bmx3S5Cg9rWuKHS6OCMsBlaB2NLePg9ZgKl7c3rcmcPwjD88biPxxEM98qFgPMY8sNXB6ZNfXQ-9mj8v9-a9Vx-y1u97j_AXcTVy8wtllYTnACHx_XANTgoCCEOKMKNPm2ICtUV-4j1CvAzksyFbAYLm1YN9P2qohu5u-JEIpoJ1TirTb04vGG0BHxbYGctzyfcCO_XlImDbjYFhy5Cg_ILzA66M6w9-nAoq3hrTohl0I_UWwBa0Hgn9ruN2-sL_We10rY77lyoI1B8PKE.q2i2Tk1V0e4pb3_zSXHs063193EQKbdgGPn3nZMlMbc&dib_tag=se&keywords=suits+for+men&qid=1710830278&refinements=p_123%3A232763&rnid=85457740011&s=apparel&sprefix=suit%2Caps%2C274&sr=1-2'"
   ]
  },
  {
   "cell_type": "code",
   "execution_count": 3,
   "id": "f641f0b6-1873-4a91-a50b-852477877cf9",
   "metadata": {
    "tags": []
   },
   "outputs": [],
   "source": [
    "# User agent\n",
    "\n",
    "headers = {\"User-Agent\": \"Mozilla/5.0 (Macintosh; Intel Mac OS X 10_15_7) AppleWebKit/537.36 (KHTML, like Gecko) Chrome/122.0.0.0 Safari/537.36\", \"Accept-Encoding\":\"gzip, deflate\", \"Accept\":\"text/html,application/xhtml+xml,application/xml;q=0.9,*/*;q=0.8\", \"DNT\":\"1\",\"Connection\":\"close\", \"Upgrade-Insecure-Requests\":\"1\"}"
   ]
  },
  {
   "cell_type": "markdown",
   "id": "14009dfa-e3a3-4b4b-adbf-64c1ee8cc3c2",
   "metadata": {},
   "source": [
    "**Note:** The user agent is a unique identifier of one's device on the web. It can be found here: https://httpbin.org/get"
   ]
  },
  {
   "cell_type": "code",
   "execution_count": 4,
   "id": "ed462002-7102-4ed9-a18b-154bab66367a",
   "metadata": {},
   "outputs": [],
   "source": [
    "# Connect to the page and access content\n",
    "\n",
    "page = requests.get(URL, headers=headers)\n",
    "\n",
    "soup1 = BeautifulSoup(page.content, \"html.parser\")\n",
    "\n",
    "soup2 = BeautifulSoup(soup1.prettify(), \"html.parser\") # Make page content more readable"
   ]
  },
  {
   "cell_type": "code",
   "execution_count": 5,
   "id": "c3d2a7f4-216c-4531-85e3-128a2d840af6",
   "metadata": {},
   "outputs": [
    {
     "name": "stdout",
     "output_type": "stream",
     "text": [
      "\n",
      "                    Tommy Hilfiger Men's Slim Fit Performance Suit with Stretch\n",
      "                   \n",
      "\n",
      "                       $177.33\n",
      "                      \n"
     ]
    }
   ],
   "source": [
    "# Extract title and price of product\n",
    "\n",
    "title = soup2.find(id='productTitle').get_text()\n",
    "\n",
    "price = soup2.find(class_='a-offscreen').get_text()\n",
    "\n",
    "print(title)\n",
    "print(price)"
   ]
  },
  {
   "cell_type": "code",
   "execution_count": 6,
   "id": "b6f7d66e",
   "metadata": {
    "tags": []
   },
   "outputs": [
    {
     "name": "stdout",
     "output_type": "stream",
     "text": [
      "Tommy Hilfiger Men's Slim Fit Performance Suit with Stretch\n",
      "177.33\n"
     ]
    }
   ],
   "source": [
    "# Clean up the data a little bit\n",
    "\n",
    "price = price.strip()[1:]\n",
    "title = title.strip()\n",
    "\n",
    "print(title)\n",
    "print(price)"
   ]
  },
  {
   "cell_type": "code",
   "execution_count": 7,
   "id": "4f021c23",
   "metadata": {
    "tags": []
   },
   "outputs": [
    {
     "name": "stdout",
     "output_type": "stream",
     "text": [
      "2024-03-19\n"
     ]
    }
   ],
   "source": [
    "# Create a Timestamp for output to track when data was collected\n",
    "\n",
    "today = datetime.date.today()\n",
    "\n",
    "print(today)"
   ]
  },
  {
   "cell_type": "markdown",
   "id": "82d4d8e5-a7f2-4de6-8738-ed74c9f6ff3a",
   "metadata": {},
   "source": [
    "### Store data to CSV"
   ]
  },
  {
   "cell_type": "code",
   "execution_count": 8,
   "id": "14d703ca",
   "metadata": {
    "tags": []
   },
   "outputs": [],
   "source": [
    "# Create CSV and write headers and data into the file\n",
    "\n",
    "header = ['Title', 'Price', 'Date']\n",
    "data = [title, price, today]\n",
    "\n",
    "\n",
    "with open('AmazonWebScraperDataset.csv', 'w', newline='', encoding='UTF8') as f:\n",
    "    writer = csv.writer(f)\n",
    "    writer.writerow(header)\n",
    "    writer.writerow(data)"
   ]
  },
  {
   "cell_type": "code",
   "execution_count": 9,
   "id": "d07eeb86",
   "metadata": {
    "tags": []
   },
   "outputs": [
    {
     "data": {
      "text/html": [
       "<div>\n",
       "<style scoped>\n",
       "    .dataframe tbody tr th:only-of-type {\n",
       "        vertical-align: middle;\n",
       "    }\n",
       "\n",
       "    .dataframe tbody tr th {\n",
       "        vertical-align: top;\n",
       "    }\n",
       "\n",
       "    .dataframe thead th {\n",
       "        text-align: right;\n",
       "    }\n",
       "</style>\n",
       "<table border=\"1\" class=\"dataframe\">\n",
       "  <thead>\n",
       "    <tr style=\"text-align: right;\">\n",
       "      <th></th>\n",
       "      <th>Title</th>\n",
       "      <th>Price</th>\n",
       "      <th>Date</th>\n",
       "    </tr>\n",
       "  </thead>\n",
       "  <tbody>\n",
       "    <tr>\n",
       "      <th>0</th>\n",
       "      <td>Tommy Hilfiger Men's Slim Fit Performance Suit...</td>\n",
       "      <td>177.33</td>\n",
       "      <td>2024-03-19</td>\n",
       "    </tr>\n",
       "  </tbody>\n",
       "</table>\n",
       "</div>"
      ],
      "text/plain": [
       "                                               Title   Price        Date\n",
       "0  Tommy Hilfiger Men's Slim Fit Performance Suit...  177.33  2024-03-19"
      ]
     },
     "execution_count": 9,
     "metadata": {},
     "output_type": "execute_result"
    }
   ],
   "source": [
    "df = pd.read_csv('AmazonWebScraperDataset.csv')\n",
    "\n",
    "df.head()"
   ]
  },
  {
   "cell_type": "code",
   "execution_count": 10,
   "id": "6b05c1eb",
   "metadata": {
    "tags": []
   },
   "outputs": [],
   "source": [
    "#Appending data to the csv\n",
    "\n",
    "with open('AmazonWebScraperDataset.csv', 'a+', newline='', encoding='UTF8') as f:\n",
    "    writer = csv.writer(f)\n",
    "    writer.writerow(data)"
   ]
  },
  {
   "cell_type": "markdown",
   "id": "8a26df5d-060f-40fa-baa8-fb4befd990f7",
   "metadata": {},
   "source": [
    "### Creating a function to automate the process"
   ]
  },
  {
   "cell_type": "code",
   "execution_count": 11,
   "id": "8e95b9e0",
   "metadata": {
    "tags": []
   },
   "outputs": [],
   "source": [
    "#Combine all of the above code into one function\n",
    "\n",
    "\n",
    "def check_price():\n",
    "    URL = 'https://www.amazon.com/Tommy-Hilfiger-Performance-Stretch-Regular/dp/B07HL41FKF/ref=sr_1_2?crid=2RJSFRJZXALTR&dib=eyJ2IjoiMSJ9.OY5fqbXmaP_tkolXO48ZeJaW4bmx3S5Cg9rWuKHS6OCMsBlaB2NLePg9ZgKl7c3rcmcPwjD88biPxxEM98qFgPMY8sNXB6ZNfXQ-9mj8v9-a9Vx-y1u97j_AXcTVy8wtllYTnACHx_XANTgoCCEOKMKNPm2ICtUV-4j1CvAzksyFbAYLm1YN9P2qohu5u-JEIpoJ1TirTb04vGG0BHxbYGctzyfcCO_XlImDbjYFhy5Cg_ILzA66M6w9-nAoq3hrTohl0I_UWwBa0Hgn9ruN2-sL_We10rY77lyoI1B8PKE.q2i2Tk1V0e4pb3_zSXHs063193EQKbdgGPn3nZMlMbc&dib_tag=se&keywords=suits+for+men&qid=1710830278&refinements=p_123%3A232763&rnid=85457740011&s=apparel&sprefix=suit%2Caps%2C274&sr=1-2'\n",
    "\n",
    "    headers = {\"User-Agent\": \"Mozilla/5.0 (Macintosh; Intel Mac OS X 10_15_7) AppleWebKit/537.36 (KHTML, like Gecko) Chrome/122.0.0.0 Safari/537.36\", \"Accept-Encoding\":\"gzip, deflate\", \"Accept\":\"text/html,application/xhtml+xml,application/xml;q=0.9,*/*;q=0.8\", \"DNT\":\"1\",\"Connection\":\"close\", \"Upgrade-Insecure-Requests\":\"1\"}\n",
    "\n",
    "    page = requests.get(URL, headers=headers)\n",
    "\n",
    "    soup1 = BeautifulSoup(page.content, \"html.parser\")\n",
    "\n",
    "    soup2 = BeautifulSoup(soup1.prettify(), \"html.parser\")\n",
    "\n",
    "    title = soup2.find(id='productTitle').get_text()\n",
    "\n",
    "    price = soup2.find(class_='a-offscreen').get_text()\n",
    "\n",
    "    price = price.strip()[1:]\n",
    "    title = title.strip()\n",
    "\n",
    "    today = datetime.date.today()\n",
    "\n",
    "    header = ['Title', 'Price', 'Date']\n",
    "    data = [title, price, today]\n",
    "\n",
    "    with open('AmazonWebScraperDataset.csv', 'a+', newline='', encoding='UTF8') as f:\n",
    "        writer = csv.writer(f)\n",
    "        writer.writerow(data)\n",
    "        \n",
    "    if float(price) < 100: # If price ever falss below $100, call the send_mail function\n",
    "        send_mail()   "
   ]
  },
  {
   "cell_type": "code",
   "execution_count": 12,
   "id": "c72f2c4e",
   "metadata": {
    "tags": []
   },
   "outputs": [
    {
     "ename": "KeyboardInterrupt",
     "evalue": "",
     "output_type": "error",
     "traceback": [
      "\u001b[0;31m---------------------------------------------------------------------------\u001b[0m",
      "\u001b[0;31mKeyboardInterrupt\u001b[0m                         Traceback (most recent call last)",
      "Cell \u001b[0;32mIn[12], line 5\u001b[0m\n\u001b[1;32m      3\u001b[0m \u001b[38;5;28;01mwhile\u001b[39;00m(\u001b[38;5;28;01mTrue\u001b[39;00m):\n\u001b[1;32m      4\u001b[0m     check_price()\n\u001b[0;32m----> 5\u001b[0m     time\u001b[38;5;241m.\u001b[39msleep(\u001b[38;5;241m1800\u001b[39m)\n",
      "\u001b[0;31mKeyboardInterrupt\u001b[0m: "
     ]
    }
   ],
   "source": [
    "# Runs check_price after a set time (30m) and inputs data into CSV file\n",
    "\n",
    "while(True):\n",
    "    check_price()\n",
    "    time.sleep(1800)"
   ]
  },
  {
   "cell_type": "code",
   "execution_count": 13,
   "id": "00af7126",
   "metadata": {
    "tags": []
   },
   "outputs": [
    {
     "name": "stdout",
     "output_type": "stream",
     "text": [
      "                                               Title   Price        Date\n",
      "0  Tommy Hilfiger Men's Slim Fit Performance Suit...  177.33  2024-03-19\n",
      "1  Tommy Hilfiger Men's Slim Fit Performance Suit...  177.33  2024-03-19\n",
      "2  Tommy Hilfiger Men's Slim Fit Performance Suit...  177.33  2024-03-19\n"
     ]
    }
   ],
   "source": [
    "df = pd.read_csv('AmazonWebScraperDataset.csv')\n",
    "\n",
    "print(df)"
   ]
  },
  {
   "cell_type": "markdown",
   "id": "d5a31dba-ccc7-4ab4-9ecf-f0f0fcf5d8bf",
   "metadata": {},
   "source": [
    "### Send automatic email when price falls below certain threshold"
   ]
  },
  {
   "cell_type": "code",
   "execution_count": 14,
   "id": "d14fce5f",
   "metadata": {
    "tags": []
   },
   "outputs": [],
   "source": [
    "# Function to send an automated email when the price hits below a certain level ($100)\n",
    "\n",
    "def send_mail():\n",
    "    server = smtplib.SMTP_SSL('smtp.gmail.com',465)\n",
    "    server.ehlo()\n",
    "    #server.starttls()\n",
    "    server.ehlo()\n",
    "    server.login('mrigangka1998@gmail.com','xxxxxxxxxxxxxxxx')\n",
    "    \n",
    "    subject = \"The Suit you want is below $100! Now is your chance to buy!\"\n",
    "    body = \"Mrigangka, This is the moment we have been waiting for. Now is your chance to pick up the suit of your dreams. Don't mess it up! Link here: https://www.amazon.com/Tommy-Hilfiger-Performance-Stretch-Regular/dp/B07HL41FKF/ref=sr_1_2?crid=2RJSFRJZXALTR&dib=eyJ2IjoiMSJ9.OY5fqbXmaP_tkolXO48ZeJaW4bmx3S5Cg9rWuKHS6OCMsBlaB2NLePg9ZgKl7c3rcmcPwjD88biPxxEM98qFgPMY8sNXB6ZNfXQ-9mj8v9-a9Vx-y1u97j_AXcTVy8wtllYTnACHx_XANTgoCCEOKMKNPm2ICtUV-4j1CvAzksyFbAYLm1YN9P2qohu5u-JEIpoJ1TirTb04vGG0BHxbYGctzyfcCO_XlImDbjYFhy5Cg_ILzA66M6w9-nAoq3hrTohl0I_UWwBa0Hgn9ruN2-sL_We10rY77lyoI1B8PKE.q2i2Tk1V0e4pb3_zSXHs063193EQKbdgGPn3nZMlMbc&dib_tag=se&keywords=suits+for+men&qid=1710830278&refinements=p_123%3A232763&rnid=85457740011&s=apparel&sprefix=suit%2Caps%2C274&sr=1-2\"\n",
    "   \n",
    "    msg = f\"Subject: {subject}\\n\\n{body}\"\n",
    "    \n",
    "    server.sendmail(\n",
    "        'mrigangka1998@gmail.com',\n",
    "        msg    \n",
    "    )"
   ]
  },
  {
   "cell_type": "code",
   "execution_count": null,
   "id": "2e349ddc-dcc3-40c9-b393-9867769caf0c",
   "metadata": {},
   "outputs": [],
   "source": []
  }
 ],
 "metadata": {
  "kernelspec": {
   "display_name": "Python 3 (ipykernel)",
   "language": "python",
   "name": "python3"
  },
  "language_info": {
   "codemirror_mode": {
    "name": "ipython",
    "version": 3
   },
   "file_extension": ".py",
   "mimetype": "text/x-python",
   "name": "python",
   "nbconvert_exporter": "python",
   "pygments_lexer": "ipython3",
   "version": "3.11.5"
  }
 },
 "nbformat": 4,
 "nbformat_minor": 5
}
